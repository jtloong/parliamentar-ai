{
 "cells": [
  {
   "cell_type": "code",
   "execution_count": 27,
   "metadata": {},
   "outputs": [],
   "source": [
    "import pandas as pd\n",
    "import glob"
   ]
  },
  {
   "cell_type": "code",
   "execution_count": 2,
   "metadata": {},
   "outputs": [
    {
     "name": "stderr",
     "output_type": "stream",
     "text": [
      "C:\\ProgramData\\Anaconda3\\lib\\site-packages\\pandas\\core\\frame.py:6211: FutureWarning: Sorting because non-concatenation axis is not aligned. A future version\n",
      "of pandas will change to not sort by default.\n",
      "\n",
      "To accept the future behavior, pass 'sort=False'.\n",
      "\n",
      "To retain the current behavior and silence the warning, pass 'sort=True'.\n",
      "\n",
      "  sort=sort)\n"
     ]
    }
   ],
   "source": [
    "for i, file in enumerate(glob.glob(\"*.csv\")):\n",
    "    if i == 0:\n",
    "        data = pd.read_csv(file)\n",
    "    else:\n",
    "        temp = pd.read_csv(file)\n",
    "        data = data.append(temp)"
   ]
  },
  {
   "cell_type": "code",
   "execution_count": 3,
   "metadata": {},
   "outputs": [
    {
     "data": {
      "text/plain": [
       "213719"
      ]
     },
     "execution_count": 3,
     "metadata": {},
     "output_type": "execute_result"
    }
   ],
   "source": [
    "len(data['Date'])"
   ]
  },
  {
   "cell_type": "code",
   "execution_count": 4,
   "metadata": {},
   "outputs": [],
   "source": [
    "data = data.reset_index()"
   ]
  },
  {
   "cell_type": "code",
   "execution_count": 41,
   "metadata": {},
   "outputs": [
    {
     "data": {
      "text/plain": [
       "'Mr. Speaker, I congratulate my colleague, the member for Richmond—Arthabaska, on his excellent speech. His speech is all the more important given that the House of Commons has recognized the Quebec nation. It is now time to recognize the characteristics that are an inherent part of any nation.I would like the member to speak to the fundamental reasons why federalist parties in the National Assembly categorically refused to support this bill, in light of the fundamental democratic rights that nations must obtain and possess.'"
      ]
     },
     "execution_count": 41,
     "metadata": {},
     "output_type": "execute_result"
    }
   ],
   "source": [
    "data['Statement'][5]"
   ]
  },
  {
   "cell_type": "code",
   "execution_count": 5,
   "metadata": {},
   "outputs": [
    {
     "data": {
      "text/html": [
       "<div>\n",
       "<style scoped>\n",
       "    .dataframe tbody tr th:only-of-type {\n",
       "        vertical-align: middle;\n",
       "    }\n",
       "\n",
       "    .dataframe tbody tr th {\n",
       "        vertical-align: top;\n",
       "    }\n",
       "\n",
       "    .dataframe thead th {\n",
       "        text-align: right;\n",
       "    }\n",
       "</style>\n",
       "<table border=\"1\" class=\"dataframe\">\n",
       "  <thead>\n",
       "    <tr style=\"text-align: right;\">\n",
       "      <th></th>\n",
       "      <th>index</th>\n",
       "      <th>Date</th>\n",
       "      <th>Party</th>\n",
       "      <th>Previous Statement</th>\n",
       "      <th>Statement</th>\n",
       "    </tr>\n",
       "  </thead>\n",
       "  <tbody>\n",
       "    <tr>\n",
       "      <th>0</th>\n",
       "      <td>0</td>\n",
       "      <td>2013-01-28</td>\n",
       "      <td>Bloc</td>\n",
       "      <td>None</td>\n",
       "      <td>moved that Bill C-457, An Act to repeal the C...</td>\n",
       "    </tr>\n",
       "    <tr>\n",
       "      <th>1</th>\n",
       "      <td>1</td>\n",
       "      <td>2013-01-28</td>\n",
       "      <td>Liberal</td>\n",
       "      <td>moved that Bill C-457, An Act to repeal the C...</td>\n",
       "      <td>Mr. Speaker, my colleague mentioned a sword of...</td>\n",
       "    </tr>\n",
       "    <tr>\n",
       "      <th>2</th>\n",
       "      <td>2</td>\n",
       "      <td>2013-01-28</td>\n",
       "      <td>Bloc</td>\n",
       "      <td>Mr. Speaker, my colleague mentioned a sword of...</td>\n",
       "      <td>Mr. Speaker, I believe that Quebeckers have to...</td>\n",
       "    </tr>\n",
       "    <tr>\n",
       "      <th>3</th>\n",
       "      <td>3</td>\n",
       "      <td>2013-01-28</td>\n",
       "      <td>Independent</td>\n",
       "      <td>Mr. Speaker, I believe that Quebeckers have to...</td>\n",
       "      <td>Mr. Speaker, I would like to add a little clar...</td>\n",
       "    </tr>\n",
       "    <tr>\n",
       "      <th>4</th>\n",
       "      <td>4</td>\n",
       "      <td>2013-01-28</td>\n",
       "      <td>Bloc</td>\n",
       "      <td>Mr. Speaker, I would like to add a little clar...</td>\n",
       "      <td>Mr. Speaker, that is obviously my colleague's ...</td>\n",
       "    </tr>\n",
       "  </tbody>\n",
       "</table>\n",
       "</div>"
      ],
      "text/plain": [
       "   index        Date        Party  \\\n",
       "0      0  2013-01-28         Bloc   \n",
       "1      1  2013-01-28      Liberal   \n",
       "2      2  2013-01-28         Bloc   \n",
       "3      3  2013-01-28  Independent   \n",
       "4      4  2013-01-28         Bloc   \n",
       "\n",
       "                                  Previous Statement  \\\n",
       "0                                               None   \n",
       "1   moved that Bill C-457, An Act to repeal the C...   \n",
       "2  Mr. Speaker, my colleague mentioned a sword of...   \n",
       "3  Mr. Speaker, I believe that Quebeckers have to...   \n",
       "4  Mr. Speaker, I would like to add a little clar...   \n",
       "\n",
       "                                           Statement  \n",
       "0   moved that Bill C-457, An Act to repeal the C...  \n",
       "1  Mr. Speaker, my colleague mentioned a sword of...  \n",
       "2  Mr. Speaker, I believe that Quebeckers have to...  \n",
       "3  Mr. Speaker, I would like to add a little clar...  \n",
       "4  Mr. Speaker, that is obviously my colleague's ...  "
      ]
     },
     "execution_count": 5,
     "metadata": {},
     "output_type": "execute_result"
    }
   ],
   "source": [
    "data.head()"
   ]
  },
  {
   "cell_type": "code",
   "execution_count": 12,
   "metadata": {},
   "outputs": [],
   "source": [
    "party = list(data['Party'])\n",
    "statements = list(data['Statement'])"
   ]
  },
  {
   "cell_type": "code",
   "execution_count": 31,
   "metadata": {},
   "outputs": [
    {
     "name": "stdout",
     "output_type": "stream",
     "text": [
      "Wall time: 3.81 s\n",
      "Parser   : 299 ms\n"
     ]
    }
   ],
   "source": [
    "%%time\n",
    "text = \"\".join(party[i] + ': ' + statements[i] + '\\n' for i in range(0, len(party)))"
   ]
  },
  {
   "cell_type": "code",
   "execution_count": 35,
   "metadata": {},
   "outputs": [],
   "source": [
    "text = text.encode(\"utf-8\").decode('utf-8','ignore').encode(\"utf-8\")"
   ]
  },
  {
   "cell_type": "code",
   "execution_count": 40,
   "metadata": {},
   "outputs": [],
   "source": [
    "text_file = open(\"parliament.txt\", \"w\", encoding=\"utf-8\")\n",
    "text_file.write(text.decode('utf-8'))\n",
    "text_file.close()"
   ]
  },
  {
   "cell_type": "code",
   "execution_count": null,
   "metadata": {},
   "outputs": [],
   "source": []
  }
 ],
 "metadata": {
  "kernelspec": {
   "display_name": "Python 3",
   "language": "python",
   "name": "python3"
  },
  "language_info": {
   "codemirror_mode": {
    "name": "ipython",
    "version": 3
   },
   "file_extension": ".py",
   "mimetype": "text/x-python",
   "name": "python",
   "nbconvert_exporter": "python",
   "pygments_lexer": "ipython3",
   "version": "3.7.0"
  }
 },
 "nbformat": 4,
 "nbformat_minor": 2
}
