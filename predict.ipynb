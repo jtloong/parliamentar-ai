{
 "cells": [
  {
   "cell_type": "code",
   "execution_count": 1,
   "metadata": {},
   "outputs": [],
   "source": [
    "import numpy as np\n",
    "import six\n",
    "import tensorflow as tf\n",
    "import time\n",
    "import os"
   ]
  },
  {
   "cell_type": "code",
   "execution_count": 6,
   "metadata": {},
   "outputs": [],
   "source": [
    "EMBEDDING_DIM = 512\n",
    "\n",
    "def transform(txt, pad_to=None):\n",
    "    output = np.asarray([ord(c) for c in txt if ord(c) < 255], dtype=np.int32)\n",
    "    if pad_to is not None:\n",
    "        output = output[:pad_to]\n",
    "        output = np.concatenate([\n",
    "            np.zeros([pad_to - len(txt)], dtype=np.int32),\n",
    "            output,\n",
    "        ])\n",
    "    return output\n",
    "\n",
    "\n",
    "def lstm_model(seq_len=100, batch_size=None, stateful=True):\n",
    "#   \"\"\"Language model: predict the next word given the current word.\"\"\"\n",
    "    source = tf.keras.Input(\n",
    "      name='seed', shape=(seq_len,), batch_size=batch_size, dtype=tf.int32)\n",
    "\n",
    "    embedding = tf.keras.layers.Embedding(input_dim=256, output_dim=EMBEDDING_DIM)(source)\n",
    "    lstm_1 = tf.keras.layers.LSTM(EMBEDDING_DIM, stateful=stateful, return_sequences=True)(embedding)\n",
    "    lstm_2 = tf.keras.layers.LSTM(EMBEDDING_DIM, stateful=stateful, return_sequences=True)(lstm_1)\n",
    "    predicted_char = tf.keras.layers.TimeDistributed(tf.keras.layers.Dense(256, activation='softmax'))(lstm_2)\n",
    "    model = tf.keras.Model(inputs=[source], outputs=[predicted_char])\n",
    "    model.compile(\n",
    "      optimizer=tf.train.RMSPropOptimizer(learning_rate=0.01),\n",
    "      loss='sparse_categorical_crossentropy',\n",
    "      metrics=['sparse_categorical_accuracy'])\n",
    "    return model"
   ]
  },
  {
   "cell_type": "code",
   "execution_count": null,
   "metadata": {},
   "outputs": [],
   "source": [
    "BATCH_SIZE = 1\n",
    "PREDICT_LEN = 20000\n",
    "\n",
    "# Keras requires the batch size be specified ahead of time for stateful models.\n",
    "# We use a sequence length of 1, as we will be feeding in one character at a \n",
    "# time and predicting the next character.\n",
    "prediction_model = lstm_model(seq_len=1, batch_size=BATCH_SIZE, stateful=True)\n",
    "prediction_model.load_weights('model.h5')\n",
    "\n",
    "# We seed the model with our initial string, copied BATCH_SIZE times\n",
    "\n",
    "seed_txt = 'Mr. Speaker, I congratulate my colleague, the member for Richmond—Arthabaska, on his excellent speech. '\n",
    "seed = transform(seed_txt)\n",
    "seed = np.repeat(np.expand_dims(seed, 0), BATCH_SIZE, axis=0)\n",
    "\n",
    "# First, run the seed forward to prime the state of the model.\n",
    "prediction_model.reset_states()\n",
    "for i in range(len(seed_txt) - 1):\n",
    "    prediction_model.predict(seed[:, i:i + 1])\n",
    "\n",
    "# Now we can accumulate predictions!\n",
    "predictions = [seed[:, -1:]]\n",
    "for i in range(PREDICT_LEN):\n",
    "    last_word = predictions[-1]\n",
    "    next_probits = prediction_model.predict(last_word)[:, 0, :]\n",
    "\n",
    "    # sample from our output distribution\n",
    "    next_idx = [\n",
    "      np.random.choice(256, p=next_probits[i])\n",
    "      for i in range(BATCH_SIZE)\n",
    "    ]\n",
    "    predictions.append(np.asarray(next_idx, dtype=np.int32))\n",
    "\n",
    "for i in range(BATCH_SIZE):\n",
    "    p = [predictions[j][i] for j in range(PREDICT_LEN)]\n",
    "    generated = ''.join([chr(c) for c in p])\n",
    "    assert len(generated) == PREDICT_LEN, 'Generated text too short'"
   ]
  },
  {
   "cell_type": "code",
   "execution_count": 30,
   "metadata": {
    "scrolled": false
   },
   "outputs": [
    {
     "name": "stdout",
     "output_type": "stream",
     "text": [
      " Ottawa be allowed to see the path that even participate in infrastructure and the people with great improvement next year.I would like to take the opportunity to move forward with parallell business apparent trading and developed Minister of Aboriginal Affairs and my hon. colleague has voted against unique mental headline and throwing for a prime minister, both the end to our children. A few minutes of Refugee Labrand is proposed supervision.\n",
      "\n",
      " -- \n",
      "\n",
      "Liberal: Mr. Speaker, the minister has introduced rights. He is a cut of life. What the company's army, sliper price on a coalition that it is entirely on our relationship, which was the third-time for NanaimoLadyseldbaugoBries to vetill the environment, the women seek it to the chain, like over his constituents need to see the comments the ucceAssist Government will have done.  My view is an important nothing or quite with the government's beliefs and, once again. In fact, last year, I want to thank any government has the picture with her study in this class girl. One of them must give our party whereby the Cowichan History and June 1467 to $10 tariffs.Late earlier the member for Sharback Every year and end any more Canadian regard to this settlement to improve adequate issues.I look forward to said we are protected. We did that. Whether it was a whole benefit to only that right and final or the beginning of the general partner of Parliament and how many things symball that was the eligible honourable food decision under the Canadian Armed Forces and targetal bills, which will help it for consumer that they are misled by Abbothbalance and that Canada has hespleted to a worthy; including 54%.\n",
      "\n",
      " -- \n",
      "\n",
      "Liberal: Madam Speaker, as I said, I entering Canada to do public batlers, farstable consultations and appreciation that is, they can grow to hear the ability to succeed, and the introdum. I see the government House leader himself of the court from SurreyNewers' Wells, Talion certainly on clannelt. This is essential from this week.An idame Minister on Newfoundland and Loxam found she did not happen, there is a lead a watch. I young Canadians say that political am just with an important part of that risk amending that clause 11 or 281, the recommendations sexual harassment is what we should be saying, What we are moving me a infrastructure here than it is uncreasingly recommendation. I try to respond to the motions split on this issue, that cameral from not be determined that the ability to monitor any away have been ratifying $1,650 million through the CBC at Air Canada to ineffect that we have a great head.\n",
      "\n",
      " -- \n",
      "\n",
      "NDP: Mr. Speaker, the hon. member for Surrey Lospit Park. I had's main and I will ask the hon. member for Thornhill.\n",
      "\n",
      " -- \n",
      "\n",
      "Liberal: Mr. Speaker, cynicism are organized and we will expect it to acknowledge this could conclude about consent. It needs to be better than half a bill about this: February 79 of the Entry Canada Post as a sense of remind of 50%.I think the amendment, no matter here is then contributing with my throughout running a legitimate, and reduce rural crimes cannot have the future where internetrapse in the heamburge LaboPW, a bill allowed to Sisters of Aviation and water, Some of Canada that was met with the Liberal Participation and actime from trade and destroying the rights of Income Enterth national C¦AU could be that front things ahead to end'sing their maintenance.The House will now access the fall and accessible maternity and those I support Bill S-5, the number the thing that has to be, both in Canada are breaking that role in the practice of a matter to the workforce, which is an exhibers who have been drastic first senior broadband.Since the mining economy and this is somethening that his brings surveille gathered by courses. People who have taken a number of priority better infrastructure, but through the House that I am the changes to the person metre and to promote a private member's bill. This endor is simply when the hon. member for Kingston and their crack to people stand up to the safety thing to speak to the challenges, to the table, as I have mentioned early in support of the orchawed. It is an issue and where it would end some parallely as he was a water 7(1), announced how there is no Plainbow. The other than the Information Commissioner are protected by eliminating reactive way to pass it an important in the Althrine and to do their job growth, apparently, so I want to focus about the ancestral court deficit.I would not be that the member mentioned earlier events that the progress was very competitive. Other members bringing up the Canadian worker gap between 1936 for Lions be there. He had been the chair of the first-time month in Quebec with their GIS members have a private member's bill did shop an analysis, and his indication and I have a small component that is correct and here to protect their histories and that the member across the way have these seal standards might have called the Canadian family law, the NDP. Brief Canada in this Prime Minister and our three questions, the initiative is affected by the Canada child benefit. There are many other personal trade agreements for every-rank, any I believe the grain costs; (k) what approach, when 100% of penticipality careful cities. Obviously, we heard the amendment is that it was in this year and the Information Experimentability Association.\n",
      "\n",
      " -- \n",
      "\n",
      "Liberal: Madam Speaker, I thank my colleague for CEmranFetensaul for fi¶e generations and delayed to criticize and the Minister of Foreign Affairs committee in his plan with advanced greater than the economy gains the practice that Senator for the European countries arrived in a bill regarded, it has been welcome to expegiting Canada Parliament. I w°lling it again terrible and far as the universality of the government is talking about expreciate that this is in my riding and then seek to know why their fall can go up and that is the safe harm, I invite the purpose of the House of Commons on behalf of officials and working on individuals but asyound the authorities where the charitable data for families bill, the finance maritime transporting scale is that it was that a few over two years ago that we are debating that at that time. What the government will tell me the government was innovative that it is fine to the Conflict of Interest and Ethics Commissioner, one flagmed and in the legislation. He has lefted all farmers who were hopeful that over the same bold, Canada and tike half the bill would already make ends meet be imposed by the committee, holders going in across the way to share, threatens of a manner where he shared that a mission exactly the prime opposition at that time an agreement has to do this history.\n",
      "\n",
      " -- \n",
      "\n",
      "NDP: Mr. Speaker, I stand before he was one minute to the Minister of National Defence Act nor I am delighted that the community are trying to investment to the guaranteed income supplement and why we have made it better, that our Prime Minister has an annual Assembly or in SaaniColumby, promoting other ameriawed. Parental leave and I think it is Éintrike that these investors and other larger measures in place to provide concrete backs to the U.K.; $4.7 trillion on the budget just brings hope in particular kind trade portions to present their fair share in the area because they are having already exists eight energy licensiveness of feat to do everything we have watched the RCMP's first sector, the number of abusive certain customs in the early 30 financial spending, I think my hand well, and that we are working $30 million that has become a member for London North for realization. Minister was that there can do thy, but that is it when they are here, saying that the government waited a plan that were provided and that we have to carefully ensure that an emergency assistance to re that we had through decades. In Ottawa is a leading dignified; the northern reduction in 13% the budget tabled, we must gave the Northwest Territories, Manitoba. It was disturbing arguments through their religitability of orious with shark by the NDP. We know that the opportunity to strongly visive changes by implemented it from an additional risk that has been a request that takes a life and to read is that the threat of the bankkull would benefit as a result of the sohts of the needs of the provinces and an elastry happen because it will create a U.S. 5 and the sale of one part of the Conflict of Intorect and other Act in the hands of pipping Canada's tornate travel-retailers and why it would although Canadians can give a fair and his speech. When a strengths through rail. The minister at Mike Duman partners with excuse that a community or creating renovations are the largest figure capion from other lights market for an exemption on example for the benches of the country. The Davie  passes broadet posted a creative amount that at least ask anybody in Statements to leverage our very important question.\n",
      "\n",
      " -- \n",
      "\n",
      "Liberal: Mr. Speaker, one high, thank you that we are implemented by the Rohingya Minister, and through you there were more than 5,800 in the campaign and the government its accepting anyone special palliative and emissions a safety corridor in the regard and persons who introduced Richard Happens and me.\n",
      "\n",
      " -- \n",
      "\n",
      "NDP: Mr. Speaker, I am pleased, talking about children. As my colleague from Winnipeg North and Moarni has a fantastic investment and get the truth. Then it is unfortunate that the Prime Minister told my farms on our regions but with Auxcratinia staff very well. At present and the leader was so transparent for the reason for the reform of the House.This has supported the minister across the country to help live up to anxious that it has been one person to improve the expense enI that Canadians are getting our commitment.\n",
      "\n",
      " -- \n",
      "\n"
     ]
    }
   ],
   "source": [
    "for x in generated.split('\\r\\n'):\n",
    "    if x[-1] != '.':\n",
    "        print(x[:x.rfind('.') + 1])\n",
    "    else:\n",
    "        print(x)\n",
    "    print('\\n -- \\n')"
   ]
  },
  {
   "cell_type": "code",
   "execution_count": null,
   "metadata": {},
   "outputs": [],
   "source": []
  }
 ],
 "metadata": {
  "kernelspec": {
   "display_name": "Python 3",
   "language": "python",
   "name": "python3"
  },
  "language_info": {
   "codemirror_mode": {
    "name": "ipython",
    "version": 3
   },
   "file_extension": ".py",
   "mimetype": "text/x-python",
   "name": "python",
   "nbconvert_exporter": "python",
   "pygments_lexer": "ipython3",
   "version": "3.6.8"
  }
 },
 "nbformat": 4,
 "nbformat_minor": 2
}
